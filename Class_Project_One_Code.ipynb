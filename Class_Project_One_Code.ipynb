{
 "cells": [
  {
   "cell_type": "markdown",
   "metadata": {},
   "source": [
    "# AJ CODE SECTION"
   ]
  },
  {
   "cell_type": "code",
   "execution_count": null,
   "metadata": {},
   "outputs": [],
   "source": [
    "import pandas as pd\n",
    "import datetime as dt"
   ]
  },
  {
   "cell_type": "code",
   "execution_count": null,
   "metadata": {},
   "outputs": [],
   "source": []
  },
  {
   "cell_type": "code",
   "execution_count": null,
   "metadata": {},
   "outputs": [],
   "source": []
  },
  {
   "cell_type": "markdown",
   "metadata": {},
   "source": [
    "# MAROOF CODE SECTION "
   ]
  },
  {
   "cell_type": "code",
   "execution_count": null,
   "metadata": {},
   "outputs": [],
   "source": [
    "import pandas as pd\n",
    "import datetime as dt"
   ]
  },
  {
   "cell_type": "code",
   "execution_count": null,
   "metadata": {},
   "outputs": [],
   "source": []
  },
  {
   "cell_type": "code",
   "execution_count": null,
   "metadata": {},
   "outputs": [],
   "source": []
  },
  {
   "cell_type": "code",
   "execution_count": null,
   "metadata": {},
   "outputs": [],
   "source": []
  },
  {
   "cell_type": "markdown",
   "metadata": {},
   "source": [
    "# AALIYAH CODE SECTION "
   ]
  },
  {
   "cell_type": "markdown",
   "metadata": {},
   "source": [
    "*delay or nonreceipt of needed medical care Data* https://www.cdc.gov/nchs/hus/data-finder.htm"
   ]
  },
  {
   "cell_type": "code",
   "execution_count": null,
   "metadata": {},
   "outputs": [],
   "source": []
  },
  {
   "cell_type": "code",
   "execution_count": null,
   "metadata": {},
   "outputs": [],
   "source": [
    "import pandas as pd\n",
    "import datetime as dt\n",
    "import matplotlib.pyplot as plt "
   ]
  },
  {
   "cell_type": "code",
   "execution_count": null,
   "metadata": {},
   "outputs": [],
   "source": [
    "health_age_data = pd.read_csv(r'Resources\\Aaliyah Data\\Health_Age_Data.csv')\n",
    "\n",
    "health_age_data.head()"
   ]
  },
  {
   "cell_type": "code",
   "execution_count": null,
   "metadata": {},
   "outputs": [],
   "source": []
  },
  {
   "cell_type": "code",
   "execution_count": null,
   "metadata": {},
   "outputs": [],
   "source": []
  },
  {
   "cell_type": "code",
   "execution_count": null,
   "metadata": {},
   "outputs": [],
   "source": []
  },
  {
   "cell_type": "code",
   "execution_count": null,
   "metadata": {},
   "outputs": [],
   "source": []
  },
  {
   "cell_type": "code",
   "execution_count": null,
   "metadata": {},
   "outputs": [],
   "source": []
  },
  {
   "cell_type": "code",
   "execution_count": null,
   "metadata": {},
   "outputs": [],
   "source": []
  },
  {
   "cell_type": "code",
   "execution_count": null,
   "metadata": {},
   "outputs": [],
   "source": []
  },
  {
   "cell_type": "code",
   "execution_count": null,
   "metadata": {},
   "outputs": [],
   "source": []
  },
  {
   "cell_type": "code",
   "execution_count": null,
   "metadata": {},
   "outputs": [],
   "source": [
    "#residence_location_data =\n",
    "\n",
    "#residence_location_data.head()"
   ]
  },
  {
   "cell_type": "code",
   "execution_count": null,
   "metadata": {},
   "outputs": [],
   "source": [
    "#residence_location_data.columns"
   ]
  },
  {
   "cell_type": "code",
   "execution_count": null,
   "metadata": {},
   "outputs": [],
   "source": [
    "#residence_location_data = residence_location_data.set_index('Characteristic')\n",
    "\n",
    "#residence_location_data"
   ]
  },
  {
   "cell_type": "code",
   "execution_count": null,
   "metadata": {},
   "outputs": [],
   "source": [
    "#residence_within_msa = residence_location_data.loc['Within MSA']\n",
    "\n",
    "#years = [col for col in residence_within_msa.index if not col.startswith('SE')]\n",
    "\n",
    "#values = residence_within_msa[years].values\n",
    "\n",
    "#plt.figure(figsize=(15,4))\n",
    "#plt.plot(years, values, marker='o')\n",
    "#plt.xlabel('Year')\n",
    "#plt.ylabel('Value')\n",
    "#plt.title('Data for Within MSA')\n",
    "#plt.grid(True)\n",
    "#plt.show()"
   ]
  },
  {
   "cell_type": "markdown",
   "metadata": {},
   "source": [
    "# ALEXANDRA CODE SECTION "
   ]
  },
  {
   "cell_type": "code",
   "execution_count": 83,
   "metadata": {},
   "outputs": [],
   "source": [
    "# Dependencies\n",
    "import matplotlib.pyplot as plt\n",
    "import numpy as np\n",
    "import pandas as pd\n",
    "import datetime as dt"
   ]
  },
  {
   "cell_type": "markdown",
   "metadata": {},
   "source": [
    "This is working "
   ]
  },
  {
   "cell_type": "code",
   "execution_count": 84,
   "metadata": {},
   "outputs": [
    {
     "data": {
      "text/html": [
       "<div>\n",
       "<style scoped>\n",
       "    .dataframe tbody tr th:only-of-type {\n",
       "        vertical-align: middle;\n",
       "    }\n",
       "\n",
       "    .dataframe tbody tr th {\n",
       "        vertical-align: top;\n",
       "    }\n",
       "\n",
       "    .dataframe thead th {\n",
       "        text-align: right;\n",
       "    }\n",
       "</style>\n",
       "<table border=\"1\" class=\"dataframe\">\n",
       "  <thead>\n",
       "    <tr style=\"text-align: right;\">\n",
       "      <th></th>\n",
       "      <th>State</th>\n",
       "      <th>Total population</th>\n",
       "      <th>Number in poverty</th>\n",
       "      <th>Percent in poverty</th>\n",
       "    </tr>\n",
       "  </thead>\n",
       "  <tbody>\n",
       "    <tr>\n",
       "      <th>0</th>\n",
       "      <td>Alabama</td>\n",
       "      <td>4,990</td>\n",
       "      <td>681</td>\n",
       "      <td>13.6</td>\n",
       "    </tr>\n",
       "    <tr>\n",
       "      <th>1</th>\n",
       "      <td>Alaska</td>\n",
       "      <td>708</td>\n",
       "      <td>68</td>\n",
       "      <td>9.6</td>\n",
       "    </tr>\n",
       "    <tr>\n",
       "      <th>2</th>\n",
       "      <td>Arizona</td>\n",
       "      <td>7,239</td>\n",
       "      <td>920</td>\n",
       "      <td>12.7</td>\n",
       "    </tr>\n",
       "    <tr>\n",
       "      <th>3</th>\n",
       "      <td>Arkansas</td>\n",
       "      <td>2,993</td>\n",
       "      <td>496</td>\n",
       "      <td>16.6</td>\n",
       "    </tr>\n",
       "    <tr>\n",
       "      <th>4</th>\n",
       "      <td>California</td>\n",
       "      <td>38,690</td>\n",
       "      <td>4,346</td>\n",
       "      <td>11.2</td>\n",
       "    </tr>\n",
       "  </tbody>\n",
       "</table>\n",
       "</div>"
      ],
      "text/plain": [
       "        State Total population Number in poverty   Percent in poverty\n",
       "0     Alabama            4,990                681                13.6\n",
       "1      Alaska              708                 68                 9.6\n",
       "2     Arizona            7,239                920                12.7\n",
       "3    Arkansas            2,993                496                16.6\n",
       "4  California           38,690              4,346                11.2"
      ]
     },
     "execution_count": 84,
     "metadata": {},
     "output_type": "execute_result"
    }
   ],
   "source": [
    "# Read the CSV file\n",
    "df_2022 = pd.read_csv(r'Resources/Alexandra Data/Poverty_data_2022.csv')\n",
    "\n",
    "\n",
    "df_2022.head()"
   ]
  },
  {
   "cell_type": "code",
   "execution_count": 85,
   "metadata": {},
   "outputs": [
    {
     "data": {
      "text/plain": [
       "Index(['State', 'Total population', 'Number in poverty ',\n",
       "       'Percent in poverty'],\n",
       "      dtype='object')"
      ]
     },
     "execution_count": 85,
     "metadata": {},
     "output_type": "execute_result"
    }
   ],
   "source": [
    "# List columns\n",
    "df_2022.columns"
   ]
  },
  {
   "cell_type": "code",
   "execution_count": 86,
   "metadata": {},
   "outputs": [
    {
     "name": "stdout",
     "output_type": "stream",
     "text": [
      "object\n"
     ]
    }
   ],
   "source": [
    "print(df_2022['Total population'].dtype)"
   ]
  },
  {
   "cell_type": "code",
   "execution_count": 87,
   "metadata": {},
   "outputs": [
    {
     "name": "stdout",
     "output_type": "stream",
     "text": [
      "        State Total population Number in poverty   Percent in poverty\n",
      "0     Alabama            4,990                681                13.6\n",
      "1      Alaska              708                 68                 9.6\n",
      "2     Arizona            7,239                920                12.7\n",
      "3    Arkansas            2,993                496                16.6\n",
      "4  California           38,690              4,346                11.2\n"
     ]
    }
   ],
   "source": [
    "print(df_2022.head().to_string())"
   ]
  },
  {
   "cell_type": "code",
   "execution_count": 88,
   "metadata": {},
   "outputs": [
    {
     "name": "stdout",
     "output_type": "stream",
     "text": [
      "            Total population  Number in poverty   Percent in poverty\n",
      "State                                                               \n",
      "Alabama                 4990                 681                13.6\n",
      "Alaska                   708                  68                 9.6\n",
      "Arizona                 7239                 920                12.7\n",
      "Arkansas                2993                 496                16.6\n",
      "California             38690                4346                11.2\n"
     ]
    }
   ],
   "source": [
    "# Clean the data & data type conversion \n",
    "df_2022['Total population'] = df_2022['Total population'].replace(',', '', regex=True).astype(float).astype(int)\n",
    "df_2022['Number in poverty '] = df_2022['Number in poverty '].replace(',', '', regex=True).astype(float).astype(int)\n",
    "df_2022['Percent in poverty'] = df_2022['Percent in poverty'].astype(float)\n",
    "\n",
    "# Set the index\n",
    "df_2022.set_index('State', inplace=True)\n",
    "\n",
    "# Display the first few rows of the cleaned dataset\n",
    "print(df_2022.head().to_string())"
   ]
  },
  {
   "cell_type": "code",
   "execution_count": 89,
   "metadata": {},
   "outputs": [
    {
     "data": {
      "text/html": [
       "<div>\n",
       "<style scoped>\n",
       "    .dataframe tbody tr th:only-of-type {\n",
       "        vertical-align: middle;\n",
       "    }\n",
       "\n",
       "    .dataframe tbody tr th {\n",
       "        vertical-align: top;\n",
       "    }\n",
       "\n",
       "    .dataframe thead th {\n",
       "        text-align: right;\n",
       "    }\n",
       "</style>\n",
       "<table border=\"1\" class=\"dataframe\">\n",
       "  <thead>\n",
       "    <tr style=\"text-align: right;\">\n",
       "      <th></th>\n",
       "      <th>Total population (2022)</th>\n",
       "      <th>Number in poverty (2022)</th>\n",
       "      <th>Percent in poverty (2022)</th>\n",
       "    </tr>\n",
       "    <tr>\n",
       "      <th>State</th>\n",
       "      <th></th>\n",
       "      <th></th>\n",
       "      <th></th>\n",
       "    </tr>\n",
       "  </thead>\n",
       "  <tbody>\n",
       "    <tr>\n",
       "      <th>Alabama</th>\n",
       "      <td>4990</td>\n",
       "      <td>681</td>\n",
       "      <td>13.6</td>\n",
       "    </tr>\n",
       "    <tr>\n",
       "      <th>Alaska</th>\n",
       "      <td>708</td>\n",
       "      <td>68</td>\n",
       "      <td>9.6</td>\n",
       "    </tr>\n",
       "    <tr>\n",
       "      <th>Arizona</th>\n",
       "      <td>7239</td>\n",
       "      <td>920</td>\n",
       "      <td>12.7</td>\n",
       "    </tr>\n",
       "    <tr>\n",
       "      <th>Arkansas</th>\n",
       "      <td>2993</td>\n",
       "      <td>496</td>\n",
       "      <td>16.6</td>\n",
       "    </tr>\n",
       "    <tr>\n",
       "      <th>California</th>\n",
       "      <td>38690</td>\n",
       "      <td>4346</td>\n",
       "      <td>11.2</td>\n",
       "    </tr>\n",
       "  </tbody>\n",
       "</table>\n",
       "</div>"
      ],
      "text/plain": [
       "            Total population (2022)  Number in poverty (2022)  \\\n",
       "State                                                           \n",
       "Alabama                        4990                       681   \n",
       "Alaska                          708                        68   \n",
       "Arizona                        7239                       920   \n",
       "Arkansas                       2993                       496   \n",
       "California                    38690                      4346   \n",
       "\n",
       "            Percent in poverty (2022)  \n",
       "State                                  \n",
       "Alabama                          13.6  \n",
       "Alaska                            9.6  \n",
       "Arizona                          12.7  \n",
       "Arkansas                         16.6  \n",
       "California                       11.2  "
      ]
     },
     "execution_count": 89,
     "metadata": {},
     "output_type": "execute_result"
    }
   ],
   "source": [
    "#Add year to all colums \n",
    "df_rename_2022 = df_2022.rename(columns={\n",
    "    'Total population': 'Total population (2022)',\n",
    "    'Number in poverty ': 'Number in poverty (2022)',\n",
    "    'Percent in poverty': 'Percent in poverty (2022)'\n",
    "})\n",
    "\n",
    "df_rename_2022.head()"
   ]
  },
  {
   "cell_type": "code",
   "execution_count": 90,
   "metadata": {},
   "outputs": [
    {
     "data": {
      "text/html": [
       "<div>\n",
       "<style scoped>\n",
       "    .dataframe tbody tr th:only-of-type {\n",
       "        vertical-align: middle;\n",
       "    }\n",
       "\n",
       "    .dataframe tbody tr th {\n",
       "        vertical-align: top;\n",
       "    }\n",
       "\n",
       "    .dataframe thead th {\n",
       "        text-align: right;\n",
       "    }\n",
       "</style>\n",
       "<table border=\"1\" class=\"dataframe\">\n",
       "  <thead>\n",
       "    <tr style=\"text-align: right;\">\n",
       "      <th></th>\n",
       "      <th>Total population (2022)</th>\n",
       "      <th>Number in poverty (2022)</th>\n",
       "      <th>Percent in poverty (2022)</th>\n",
       "    </tr>\n",
       "    <tr>\n",
       "      <th>State</th>\n",
       "      <th></th>\n",
       "      <th></th>\n",
       "      <th></th>\n",
       "    </tr>\n",
       "  </thead>\n",
       "  <tbody>\n",
       "    <tr>\n",
       "      <th>Utah</th>\n",
       "      <td>3338</td>\n",
       "      <td>200</td>\n",
       "      <td>6.0</td>\n",
       "    </tr>\n",
       "    <tr>\n",
       "      <th>Wisconsin</th>\n",
       "      <td>5807</td>\n",
       "      <td>386</td>\n",
       "      <td>6.6</td>\n",
       "    </tr>\n",
       "    <tr>\n",
       "      <th>Wyoming</th>\n",
       "      <td>562</td>\n",
       "      <td>40</td>\n",
       "      <td>7.1</td>\n",
       "    </tr>\n",
       "    <tr>\n",
       "      <th>Minnesota</th>\n",
       "      <td>5626</td>\n",
       "      <td>427</td>\n",
       "      <td>7.6</td>\n",
       "    </tr>\n",
       "    <tr>\n",
       "      <th>Nebraska</th>\n",
       "      <td>1946</td>\n",
       "      <td>154</td>\n",
       "      <td>7.9</td>\n",
       "    </tr>\n",
       "  </tbody>\n",
       "</table>\n",
       "</div>"
      ],
      "text/plain": [
       "           Total population (2022)  Number in poverty (2022)  \\\n",
       "State                                                          \n",
       "Utah                          3338                       200   \n",
       "Wisconsin                     5807                       386   \n",
       "Wyoming                        562                        40   \n",
       "Minnesota                     5626                       427   \n",
       "Nebraska                      1946                       154   \n",
       "\n",
       "           Percent in poverty (2022)  \n",
       "State                                 \n",
       "Utah                             6.0  \n",
       "Wisconsin                        6.6  \n",
       "Wyoming                          7.1  \n",
       "Minnesota                        7.6  \n",
       "Nebraska                         7.9  "
      ]
     },
     "execution_count": 90,
     "metadata": {},
     "output_type": "execute_result"
    }
   ],
   "source": [
    "# Sort the DataFrame by 'Percent in poverty' in ascending order\n",
    "\n",
    "df_sorted_2022 = df_rename_2022.sort_values('Percent in poverty (2022)')\n",
    "df_sorted_2022\n",
    "\n",
    "# Create a simple string table\n",
    "table = \"| State | Total population | Number in poverty | Percent in poverty |\\n\"\n",
    "table += \"|-------|-------------------------|--------------------------|---------------------|\\n\"\n",
    "df_sorted_2022.head()\n"
   ]
  },
  {
   "cell_type": "code",
   "execution_count": 91,
   "metadata": {},
   "outputs": [
    {
     "data": {
      "text/html": [
       "<div>\n",
       "<style scoped>\n",
       "    .dataframe tbody tr th:only-of-type {\n",
       "        vertical-align: middle;\n",
       "    }\n",
       "\n",
       "    .dataframe tbody tr th {\n",
       "        vertical-align: top;\n",
       "    }\n",
       "\n",
       "    .dataframe thead th {\n",
       "        text-align: right;\n",
       "    }\n",
       "</style>\n",
       "<table border=\"1\" class=\"dataframe\">\n",
       "  <thead>\n",
       "    <tr style=\"text-align: right;\">\n",
       "      <th></th>\n",
       "      <th>Total population (2022)</th>\n",
       "      <th>Number in poverty (2022)</th>\n",
       "      <th>Percent in poverty (2022)</th>\n",
       "    </tr>\n",
       "    <tr>\n",
       "      <th>State</th>\n",
       "      <th></th>\n",
       "      <th></th>\n",
       "      <th></th>\n",
       "    </tr>\n",
       "  </thead>\n",
       "  <tbody>\n",
       "    <tr>\n",
       "      <th>Utah</th>\n",
       "      <td>3338</td>\n",
       "      <td>200</td>\n",
       "      <td>6.0</td>\n",
       "    </tr>\n",
       "    <tr>\n",
       "      <th>Wisconsin</th>\n",
       "      <td>5807</td>\n",
       "      <td>386</td>\n",
       "      <td>6.6</td>\n",
       "    </tr>\n",
       "    <tr>\n",
       "      <th>Wyoming</th>\n",
       "      <td>562</td>\n",
       "      <td>40</td>\n",
       "      <td>7.1</td>\n",
       "    </tr>\n",
       "    <tr>\n",
       "      <th>Minnesota</th>\n",
       "      <td>5626</td>\n",
       "      <td>427</td>\n",
       "      <td>7.6</td>\n",
       "    </tr>\n",
       "    <tr>\n",
       "      <th>Nebraska</th>\n",
       "      <td>1946</td>\n",
       "      <td>154</td>\n",
       "      <td>7.9</td>\n",
       "    </tr>\n",
       "  </tbody>\n",
       "</table>\n",
       "</div>"
      ],
      "text/plain": [
       "           Total population (2022)  Number in poverty (2022)  \\\n",
       "State                                                          \n",
       "Utah                          3338                       200   \n",
       "Wisconsin                     5807                       386   \n",
       "Wyoming                        562                        40   \n",
       "Minnesota                     5626                       427   \n",
       "Nebraska                      1946                       154   \n",
       "\n",
       "           Percent in poverty (2022)  \n",
       "State                                 \n",
       "Utah                             6.0  \n",
       "Wisconsin                        6.6  \n",
       "Wyoming                          7.1  \n",
       "Minnesota                        7.6  \n",
       "Nebraska                         7.9  "
      ]
     },
     "execution_count": 91,
     "metadata": {},
     "output_type": "execute_result"
    }
   ],
   "source": [
    "#assign the new colum names to the DataFrame \n",
    "df_sorted_2022.head()"
   ]
  },
  {
   "cell_type": "code",
   "execution_count": 92,
   "metadata": {},
   "outputs": [
    {
     "data": {
      "text/plain": [
       "<Axes: xlabel='State'>"
      ]
     },
     "metadata": {},
     "output_type": "display_data"
    },
    {
     "data": {
      "image/png": "[encoded data removed]",
      "text/plain": [
       "<Figure size 640x480 with 1 Axes>"
      ]
     },
     "metadata": {},
     "output_type": "display_data"
    }
   ],
   "source": [
    "display(df_sorted_2022.plot())"
   ]
  },
  {
   "cell_type": "markdown",
   "metadata": {},
   "source": [
    "##Here I will be grouping states by regions "
   ]
  },
  {
   "cell_type": "code",
   "execution_count": 93,
   "metadata": {},
   "outputs": [],
   "source": [
    "#define the regions and which states belong to each.\n",
    "regions = {\n",
    "    'Northeast': ['Connecticut', 'Maine', 'Massachusetts', 'New Hampshire', 'Rhode Island', 'Vermont', 'New York', 'New Jersey', 'Pennsylvania'],\n",
    "    'Midwest': ['Illinois', 'Indiana', 'Michigan', 'Ohio', 'Wisconsin', 'Iowa', 'Kansas', 'Minnesota', 'Missouri', 'Nebraska', 'North Dakota', 'South Dakota'],\n",
    "    'South': ['Delaware', 'Florida', 'Georgia', 'Maryland', 'North Carolina', 'South Carolina', 'Virginia', 'West Virginia', 'Alabama', 'Kentucky', 'Mississippi', 'Tennessee', 'Arkansas', 'Louisiana', 'Oklahoma', 'Texas'],\n",
    "    'West': ['Arizona', 'Colorado', 'Idaho', 'Montana', 'Nevada', 'New Mexico', 'Utah', 'Wyoming', 'Alaska', 'California', 'Hawaii', 'Oregon', 'Washington']\n",
    "}"
   ]
  },
  {
   "cell_type": "code",
   "execution_count": 94,
   "metadata": {},
   "outputs": [],
   "source": [
    "#Now, let's create a function to assign a region to each state:\n",
    "def get_region(state):\n",
    "    for region, states in regions.items():\n",
    "        if state in states:\n",
    "            return region\n",
    "    return 'Other'  # for states not in the defined regions (e.g., District of Columbia)"
   ]
  },
  {
   "cell_type": "code",
   "execution_count": 95,
   "metadata": {},
   "outputs": [
    {
     "data": {
      "text/html": [
       "<div>\n",
       "<style scoped>\n",
       "    .dataframe tbody tr th:only-of-type {\n",
       "        vertical-align: middle;\n",
       "    }\n",
       "\n",
       "    .dataframe tbody tr th {\n",
       "        vertical-align: top;\n",
       "    }\n",
       "\n",
       "    .dataframe thead th {\n",
       "        text-align: right;\n",
       "    }\n",
       "</style>\n",
       "<table border=\"1\" class=\"dataframe\">\n",
       "  <thead>\n",
       "    <tr style=\"text-align: right;\">\n",
       "      <th></th>\n",
       "      <th>Total population (2022)</th>\n",
       "      <th>Number in poverty (2022)</th>\n",
       "      <th>Percent in poverty (2022)</th>\n",
       "      <th>Region</th>\n",
       "    </tr>\n",
       "    <tr>\n",
       "      <th>State</th>\n",
       "      <th></th>\n",
       "      <th></th>\n",
       "      <th></th>\n",
       "      <th></th>\n",
       "    </tr>\n",
       "  </thead>\n",
       "  <tbody>\n",
       "    <tr>\n",
       "      <th>Alabama</th>\n",
       "      <td>4990</td>\n",
       "      <td>681</td>\n",
       "      <td>13.6</td>\n",
       "      <td>South</td>\n",
       "    </tr>\n",
       "    <tr>\n",
       "      <th>Alaska</th>\n",
       "      <td>708</td>\n",
       "      <td>68</td>\n",
       "      <td>9.6</td>\n",
       "      <td>West</td>\n",
       "    </tr>\n",
       "    <tr>\n",
       "      <th>Arizona</th>\n",
       "      <td>7239</td>\n",
       "      <td>920</td>\n",
       "      <td>12.7</td>\n",
       "      <td>West</td>\n",
       "    </tr>\n",
       "    <tr>\n",
       "      <th>Arkansas</th>\n",
       "      <td>2993</td>\n",
       "      <td>496</td>\n",
       "      <td>16.6</td>\n",
       "      <td>South</td>\n",
       "    </tr>\n",
       "    <tr>\n",
       "      <th>California</th>\n",
       "      <td>38690</td>\n",
       "      <td>4346</td>\n",
       "      <td>11.2</td>\n",
       "      <td>West</td>\n",
       "    </tr>\n",
       "    <tr>\n",
       "      <th>Colorado</th>\n",
       "      <td>5732</td>\n",
       "      <td>465</td>\n",
       "      <td>8.1</td>\n",
       "      <td>West</td>\n",
       "    </tr>\n",
       "    <tr>\n",
       "      <th>Connecticut</th>\n",
       "      <td>3602</td>\n",
       "      <td>368</td>\n",
       "      <td>10.2</td>\n",
       "      <td>Northeast</td>\n",
       "    </tr>\n",
       "    <tr>\n",
       "      <th>Delaware</th>\n",
       "      <td>1035</td>\n",
       "      <td>97</td>\n",
       "      <td>9.3</td>\n",
       "      <td>South</td>\n",
       "    </tr>\n",
       "    <tr>\n",
       "      <th>District of Columbia</th>\n",
       "      <td>654</td>\n",
       "      <td>88</td>\n",
       "      <td>13.4</td>\n",
       "      <td>Other</td>\n",
       "    </tr>\n",
       "    <tr>\n",
       "      <th>Florida</th>\n",
       "      <td>22190</td>\n",
       "      <td>2988</td>\n",
       "      <td>13.5</td>\n",
       "      <td>South</td>\n",
       "    </tr>\n",
       "    <tr>\n",
       "      <th>Georgia</th>\n",
       "      <td>10920</td>\n",
       "      <td>1280</td>\n",
       "      <td>11.7</td>\n",
       "      <td>South</td>\n",
       "    </tr>\n",
       "    <tr>\n",
       "      <th>Hawaii</th>\n",
       "      <td>1423</td>\n",
       "      <td>126</td>\n",
       "      <td>8.8</td>\n",
       "      <td>West</td>\n",
       "    </tr>\n",
       "    <tr>\n",
       "      <th>Idaho</th>\n",
       "      <td>1947</td>\n",
       "      <td>159</td>\n",
       "      <td>8.2</td>\n",
       "      <td>West</td>\n",
       "    </tr>\n",
       "    <tr>\n",
       "      <th>Illinois</th>\n",
       "      <td>12350</td>\n",
       "      <td>1173</td>\n",
       "      <td>9.5</td>\n",
       "      <td>Midwest</td>\n",
       "    </tr>\n",
       "    <tr>\n",
       "      <th>Indiana</th>\n",
       "      <td>6792</td>\n",
       "      <td>704</td>\n",
       "      <td>10.4</td>\n",
       "      <td>Midwest</td>\n",
       "    </tr>\n",
       "    <tr>\n",
       "      <th>Iowa</th>\n",
       "      <td>3183</td>\n",
       "      <td>299</td>\n",
       "      <td>9.4</td>\n",
       "      <td>Midwest</td>\n",
       "    </tr>\n",
       "    <tr>\n",
       "      <th>Kansas</th>\n",
       "      <td>2846</td>\n",
       "      <td>298</td>\n",
       "      <td>10.5</td>\n",
       "      <td>Midwest</td>\n",
       "    </tr>\n",
       "    <tr>\n",
       "      <th>Kentucky</th>\n",
       "      <td>4453</td>\n",
       "      <td>763</td>\n",
       "      <td>17.1</td>\n",
       "      <td>South</td>\n",
       "    </tr>\n",
       "    <tr>\n",
       "      <th>Louisiana</th>\n",
       "      <td>4519</td>\n",
       "      <td>761</td>\n",
       "      <td>16.9</td>\n",
       "      <td>South</td>\n",
       "    </tr>\n",
       "    <tr>\n",
       "      <th>Maine</th>\n",
       "      <td>1381</td>\n",
       "      <td>133</td>\n",
       "      <td>9.6</td>\n",
       "      <td>Northeast</td>\n",
       "    </tr>\n",
       "    <tr>\n",
       "      <th>Maryland</th>\n",
       "      <td>6202</td>\n",
       "      <td>535</td>\n",
       "      <td>8.6</td>\n",
       "      <td>South</td>\n",
       "    </tr>\n",
       "    <tr>\n",
       "      <th>Massachusetts</th>\n",
       "      <td>6860</td>\n",
       "      <td>658</td>\n",
       "      <td>9.6</td>\n",
       "      <td>Northeast</td>\n",
       "    </tr>\n",
       "    <tr>\n",
       "      <th>Michigan</th>\n",
       "      <td>9961</td>\n",
       "      <td>1206</td>\n",
       "      <td>12.1</td>\n",
       "      <td>Midwest</td>\n",
       "    </tr>\n",
       "    <tr>\n",
       "      <th>Minnesota</th>\n",
       "      <td>5626</td>\n",
       "      <td>427</td>\n",
       "      <td>7.6</td>\n",
       "      <td>Midwest</td>\n",
       "    </tr>\n",
       "    <tr>\n",
       "      <th>Mississippi</th>\n",
       "      <td>2881</td>\n",
       "      <td>531</td>\n",
       "      <td>18.4</td>\n",
       "      <td>South</td>\n",
       "    </tr>\n",
       "    <tr>\n",
       "      <th>Missouri</th>\n",
       "      <td>6057</td>\n",
       "      <td>693</td>\n",
       "      <td>11.4</td>\n",
       "      <td>Midwest</td>\n",
       "    </tr>\n",
       "    <tr>\n",
       "      <th>Montana</th>\n",
       "      <td>1119</td>\n",
       "      <td>117</td>\n",
       "      <td>10.4</td>\n",
       "      <td>West</td>\n",
       "    </tr>\n",
       "    <tr>\n",
       "      <th>Nebraska</th>\n",
       "      <td>1946</td>\n",
       "      <td>154</td>\n",
       "      <td>7.9</td>\n",
       "      <td>Midwest</td>\n",
       "    </tr>\n",
       "    <tr>\n",
       "      <th>Nevada</th>\n",
       "      <td>3170</td>\n",
       "      <td>380</td>\n",
       "      <td>12.0</td>\n",
       "      <td>West</td>\n",
       "    </tr>\n",
       "    <tr>\n",
       "      <th>New Hampshire</th>\n",
       "      <td>1385</td>\n",
       "      <td>115</td>\n",
       "      <td>8.3</td>\n",
       "      <td>Northeast</td>\n",
       "    </tr>\n",
       "    <tr>\n",
       "      <th>New Jersey</th>\n",
       "      <td>9151</td>\n",
       "      <td>799</td>\n",
       "      <td>8.7</td>\n",
       "      <td>Northeast</td>\n",
       "    </tr>\n",
       "    <tr>\n",
       "      <th>New Mexico</th>\n",
       "      <td>2113</td>\n",
       "      <td>427</td>\n",
       "      <td>20.2</td>\n",
       "      <td>West</td>\n",
       "    </tr>\n",
       "    <tr>\n",
       "      <th>New York</th>\n",
       "      <td>19490</td>\n",
       "      <td>2480</td>\n",
       "      <td>12.7</td>\n",
       "      <td>Northeast</td>\n",
       "    </tr>\n",
       "    <tr>\n",
       "      <th>North Carolina</th>\n",
       "      <td>10740</td>\n",
       "      <td>1525</td>\n",
       "      <td>14.2</td>\n",
       "      <td>South</td>\n",
       "    </tr>\n",
       "    <tr>\n",
       "      <th>North Dakota</th>\n",
       "      <td>764</td>\n",
       "      <td>74</td>\n",
       "      <td>9.7</td>\n",
       "      <td>Midwest</td>\n",
       "    </tr>\n",
       "    <tr>\n",
       "      <th>Ohio</th>\n",
       "      <td>11620</td>\n",
       "      <td>1154</td>\n",
       "      <td>9.9</td>\n",
       "      <td>Midwest</td>\n",
       "    </tr>\n",
       "    <tr>\n",
       "      <th>Oklahoma</th>\n",
       "      <td>3948</td>\n",
       "      <td>665</td>\n",
       "      <td>16.9</td>\n",
       "      <td>South</td>\n",
       "    </tr>\n",
       "    <tr>\n",
       "      <th>Oregon</th>\n",
       "      <td>4230</td>\n",
       "      <td>419</td>\n",
       "      <td>9.9</td>\n",
       "      <td>West</td>\n",
       "    </tr>\n",
       "    <tr>\n",
       "      <th>Pennsylvania</th>\n",
       "      <td>12740</td>\n",
       "      <td>1383</td>\n",
       "      <td>10.9</td>\n",
       "      <td>Northeast</td>\n",
       "    </tr>\n",
       "    <tr>\n",
       "      <th>Rhode Island</th>\n",
       "      <td>1069</td>\n",
       "      <td>90</td>\n",
       "      <td>8.4</td>\n",
       "      <td>Northeast</td>\n",
       "    </tr>\n",
       "    <tr>\n",
       "      <th>South Carolina</th>\n",
       "      <td>5262</td>\n",
       "      <td>677</td>\n",
       "      <td>12.9</td>\n",
       "      <td>South</td>\n",
       "    </tr>\n",
       "    <tr>\n",
       "      <th>South Dakota</th>\n",
       "      <td>886</td>\n",
       "      <td>80</td>\n",
       "      <td>9.1</td>\n",
       "      <td>Midwest</td>\n",
       "    </tr>\n",
       "    <tr>\n",
       "      <th>Tennessee</th>\n",
       "      <td>7010</td>\n",
       "      <td>736</td>\n",
       "      <td>10.5</td>\n",
       "      <td>South</td>\n",
       "    </tr>\n",
       "    <tr>\n",
       "      <th>Texas</th>\n",
       "      <td>29920</td>\n",
       "      <td>4031</td>\n",
       "      <td>13.5</td>\n",
       "      <td>South</td>\n",
       "    </tr>\n",
       "    <tr>\n",
       "      <th>Utah</th>\n",
       "      <td>3338</td>\n",
       "      <td>200</td>\n",
       "      <td>6.0</td>\n",
       "      <td>West</td>\n",
       "    </tr>\n",
       "    <tr>\n",
       "      <th>Vermont</th>\n",
       "      <td>641</td>\n",
       "      <td>58</td>\n",
       "      <td>9.0</td>\n",
       "      <td>Northeast</td>\n",
       "    </tr>\n",
       "    <tr>\n",
       "      <th>Virginia</th>\n",
       "      <td>8489</td>\n",
       "      <td>704</td>\n",
       "      <td>8.3</td>\n",
       "      <td>South</td>\n",
       "    </tr>\n",
       "    <tr>\n",
       "      <th>Washington</th>\n",
       "      <td>7705</td>\n",
       "      <td>696</td>\n",
       "      <td>9.0</td>\n",
       "      <td>West</td>\n",
       "    </tr>\n",
       "    <tr>\n",
       "      <th>West Virginia</th>\n",
       "      <td>1746</td>\n",
       "      <td>270</td>\n",
       "      <td>15.5</td>\n",
       "      <td>South</td>\n",
       "    </tr>\n",
       "    <tr>\n",
       "      <th>Wisconsin</th>\n",
       "      <td>5807</td>\n",
       "      <td>386</td>\n",
       "      <td>6.6</td>\n",
       "      <td>Midwest</td>\n",
       "    </tr>\n",
       "    <tr>\n",
       "      <th>Wyoming</th>\n",
       "      <td>562</td>\n",
       "      <td>40</td>\n",
       "      <td>7.1</td>\n",
       "      <td>West</td>\n",
       "    </tr>\n",
       "  </tbody>\n",
       "</table>\n",
       "</div>"
      ],
      "text/plain": [
       "                      Total population (2022)  Number in poverty (2022)  \\\n",
       "State                                                                     \n",
       "Alabama                                  4990                       681   \n",
       "Alaska                                    708                        68   \n",
       "Arizona                                  7239                       920   \n",
       "Arkansas                                 2993                       496   \n",
       "California                              38690                      4346   \n",
       "Colorado                                 5732                       465   \n",
       "Connecticut                              3602                       368   \n",
       "Delaware                                 1035                        97   \n",
       "District of Columbia                      654                        88   \n",
       "Florida                                 22190                      2988   \n",
       "Georgia                                 10920                      1280   \n",
       "Hawaii                                   1423                       126   \n",
       "Idaho                                    1947                       159   \n",
       "Illinois                                12350                      1173   \n",
       "Indiana                                  6792                       704   \n",
       "Iowa                                     3183                       299   \n",
       "Kansas                                   2846                       298   \n",
       "Kentucky                                 4453                       763   \n",
       "Louisiana                                4519                       761   \n",
       "Maine                                    1381                       133   \n",
       "Maryland                                 6202                       535   \n",
       "Massachusetts                            6860                       658   \n",
       "Michigan                                 9961                      1206   \n",
       "Minnesota                                5626                       427   \n",
       "Mississippi                              2881                       531   \n",
       "Missouri                                 6057                       693   \n",
       "Montana                                  1119                       117   \n",
       "Nebraska                                 1946                       154   \n",
       "Nevada                                   3170                       380   \n",
       "New Hampshire                            1385                       115   \n",
       "New Jersey                               9151                       799   \n",
       "New Mexico                               2113                       427   \n",
       "New York                                19490                      2480   \n",
       "North Carolina                          10740                      1525   \n",
       "North Dakota                              764                        74   \n",
       "Ohio                                    11620                      1154   \n",
       "Oklahoma                                 3948                       665   \n",
       "Oregon                                   4230                       419   \n",
       "Pennsylvania                            12740                      1383   \n",
       "Rhode Island                             1069                        90   \n",
       "South Carolina                           5262                       677   \n",
       "South Dakota                              886                        80   \n",
       "Tennessee                                7010                       736   \n",
       "Texas                                   29920                      4031   \n",
       "Utah                                     3338                       200   \n",
       "Vermont                                   641                        58   \n",
       "Virginia                                 8489                       704   \n",
       "Washington                               7705                       696   \n",
       "West Virginia                            1746                       270   \n",
       "Wisconsin                                5807                       386   \n",
       "Wyoming                                   562                        40   \n",
       "\n",
       "                      Percent in poverty (2022)     Region  \n",
       "State                                                       \n",
       "Alabama                                    13.6      South  \n",
       "Alaska                                      9.6       West  \n",
       "Arizona                                    12.7       West  \n",
       "Arkansas                                   16.6      South  \n",
       "California                                 11.2       West  \n",
       "Colorado                                    8.1       West  \n",
       "Connecticut                                10.2  Northeast  \n",
       "Delaware                                    9.3      South  \n",
       "District of Columbia                       13.4      Other  \n",
       "Florida                                    13.5      South  \n",
       "Georgia                                    11.7      South  \n",
       "Hawaii                                      8.8       West  \n",
       "Idaho                                       8.2       West  \n",
       "Illinois                                    9.5    Midwest  \n",
       "Indiana                                    10.4    Midwest  \n",
       "Iowa                                        9.4    Midwest  \n",
       "Kansas                                     10.5    Midwest  \n",
       "Kentucky                                   17.1      South  \n",
       "Louisiana                                  16.9      South  \n",
       "Maine                                       9.6  Northeast  \n",
       "Maryland                                    8.6      South  \n",
       "Massachusetts                               9.6  Northeast  \n",
       "Michigan                                   12.1    Midwest  \n",
       "Minnesota                                   7.6    Midwest  \n",
       "Mississippi                                18.4      South  \n",
       "Missouri                                   11.4    Midwest  \n",
       "Montana                                    10.4       West  \n",
       "Nebraska                                    7.9    Midwest  \n",
       "Nevada                                     12.0       West  \n",
       "New Hampshire                               8.3  Northeast  \n",
       "New Jersey                                  8.7  Northeast  \n",
       "New Mexico                                 20.2       West  \n",
       "New York                                   12.7  Northeast  \n",
       "North Carolina                             14.2      South  \n",
       "North Dakota                                9.7    Midwest  \n",
       "Ohio                                        9.9    Midwest  \n",
       "Oklahoma                                   16.9      South  \n",
       "Oregon                                      9.9       West  \n",
       "Pennsylvania                               10.9  Northeast  \n",
       "Rhode Island                                8.4  Northeast  \n",
       "South Carolina                             12.9      South  \n",
       "South Dakota                                9.1    Midwest  \n",
       "Tennessee                                  10.5      South  \n",
       "Texas                                      13.5      South  \n",
       "Utah                                        6.0       West  \n",
       "Vermont                                     9.0  Northeast  \n",
       "Virginia                                    8.3      South  \n",
       "Washington                                  9.0       West  \n",
       "West Virginia                              15.5      South  \n",
       "Wisconsin                                   6.6    Midwest  \n",
       "Wyoming                                     7.1       West  "
      ]
     },
     "execution_count": 95,
     "metadata": {},
     "output_type": "execute_result"
    }
   ],
   "source": [
    "#Add a new 'Region' column to your DataFrame:\n",
    "df_rename_2022['Region'] = df_rename_2022.index.map(get_region)\n",
    "df_rename_2022"
   ]
  },
  {
   "cell_type": "code",
   "execution_count": 101,
   "metadata": {},
   "outputs": [
    {
     "ename": "SyntaxError",
     "evalue": "invalid syntax (583849576.py, line 2)",
     "output_type": "error",
     "traceback": [
      "\u001b[0;36m  Cell \u001b[0;32mIn[101], line 2\u001b[0;36m\u001b[0m\n\u001b[0;31m    grouped_by_region_2022 = df_rename_2022.groupby(['Region', 'State'])mean.()\u001b[0m\n\u001b[0m                                                                        ^\u001b[0m\n\u001b[0;31mSyntaxError\u001b[0m\u001b[0;31m:\u001b[0m invalid syntax\n"
     ]
    }
   ],
   "source": [
    "#Now you can group the data by region:\n",
    "grouped_by_region_2022 = df_rename_2022.groupby(['Region', 'State'])mean.()\n",
    "grouped_by_region_2022"
   ]
  },
  {
   "cell_type": "code",
   "execution_count": null,
   "metadata": {},
   "outputs": [],
   "source": [
    "grouped_by_region_2022"
   ]
  },
  {
   "cell_type": "code",
   "execution_count": null,
   "metadata": {},
   "outputs": [],
   "source": [
    "#"
   ]
  },
  {
   "cell_type": "code",
   "execution_count": null,
   "metadata": {},
   "outputs": [],
   "source": [
    "# Read the CSV file\n",
    "df_2021 = pd.read_csv(r'Resources/Alexandra Data/Poverty_data_2021.csv')\n",
    "\n",
    "df_2021.head()"
   ]
  },
  {
   "cell_type": "code",
   "execution_count": null,
   "metadata": {},
   "outputs": [],
   "source": [
    "# List columns\n",
    "df_2021.columns"
   ]
  },
  {
   "cell_type": "code",
   "execution_count": null,
   "metadata": {},
   "outputs": [],
   "source": [
    "#Check index type\n",
    "print(df_2021['Total population'].dtype)\n",
    "print(df_2021['Number in poverty'].dtype)\n",
    "print(df_2021['Percent in poverty'].dtype)"
   ]
  },
  {
   "cell_type": "code",
   "execution_count": null,
   "metadata": {},
   "outputs": [],
   "source": [
    "print(df_2021.head().to_string())"
   ]
  },
  {
   "cell_type": "code",
   "execution_count": null,
   "metadata": {},
   "outputs": [],
   "source": [
    "# Clean the data & data type conversion \n",
    "df_2021['Total population'] = df_2021['Total population'].replace(',', '', regex=True).astype(float).astype(int)\n",
    "df_2021['Number in poverty'] = df_2021['Number in poverty'].replace(',', '', regex=True).astype(float).astype(int)\n",
    "df_2021['Percent in poverty'] = df_2021['Percent in poverty'].astype(float)\n",
    "\n",
    "# Set the index\n",
    "df_2021.set_index('State', inplace=True)\n",
    "\n",
    "# Display the first few rows of the cleaned dataset\n",
    "print(df_2021.head().to_string())"
   ]
  },
  {
   "cell_type": "code",
   "execution_count": null,
   "metadata": {},
   "outputs": [],
   "source": [
    "#Add year to all colums \n",
    "df_rename_2021 = df_2021.rename(columns={\n",
    "    'Total population': 'Total population (2021)',\n",
    "    'Number in poverty': 'Number in poverty (2021)',\n",
    "    'Percent in poverty': 'Percent in poverty (2021)'\n",
    "})\n",
    "\n",
    "df_rename_2021.head()"
   ]
  },
  {
   "cell_type": "code",
   "execution_count": null,
   "metadata": {},
   "outputs": [],
   "source": [
    "# Sort the DataFrame by 'Percent in poverty' in ascending order\n",
    "\n",
    "df_sorted_2021 = df_rename_2021.sort_values('Percent in poverty (2021)')\n",
    "df_sorted_2021\n",
    "\n",
    "# Create a simple string table\n",
    "table = \"| State | Total population | Number in poverty | Percent in poverty |\\n\"\n",
    "table += \"|-------|-------------------------|--------------------------|---------------------|\\n\"\n",
    "df_sorted_2021.head()"
   ]
  },
  {
   "cell_type": "code",
   "execution_count": null,
   "metadata": {},
   "outputs": [],
   "source": [
    "display(df_sorted_2021.plot())"
   ]
  },
  {
   "cell_type": "code",
   "execution_count": null,
   "metadata": {},
   "outputs": [],
   "source": [
    "# Read the CSV file\n",
    "df_2020 = pd.read_csv(r'Resources/Alexandra Data/Poverty_data_2020.csv')\n",
    "\n",
    "df_2020.head()"
   ]
  },
  {
   "cell_type": "code",
   "execution_count": null,
   "metadata": {},
   "outputs": [],
   "source": [
    "# List columns\n",
    "df_2020.columns"
   ]
  },
  {
   "cell_type": "code",
   "execution_count": null,
   "metadata": {},
   "outputs": [],
   "source": [
    "#Check index type\n",
    "print(df_2020['Total population'].dtype)\n",
    "print(df_2020['Number in poverty'].dtype)\n",
    "print(df_2020['Percent in poverty'].dtype)"
   ]
  },
  {
   "cell_type": "code",
   "execution_count": null,
   "metadata": {},
   "outputs": [],
   "source": [
    "print(df_2020.head().to_string())"
   ]
  },
  {
   "cell_type": "code",
   "execution_count": null,
   "metadata": {},
   "outputs": [],
   "source": [
    "# Clean the data & data type conversion \n",
    "df_2020['Total population'] = df_2020['Total population'].replace(',', '', regex=True).astype(float).astype(int)\n",
    "df_2020['Number in poverty'] = df_2020['Number in poverty'].replace(',', '', regex=True).astype(float).astype(int)\n",
    "df_2020['Percent in poverty'] = df_2020['Percent in poverty'].astype(float)\n",
    "\n",
    "# Set the index\n",
    "df_2020.set_index('State', inplace=True)\n",
    "\n",
    "# Display the first few rows of the cleaned dataset\n",
    "print(df_2020.head().to_string())"
   ]
  },
  {
   "cell_type": "code",
   "execution_count": null,
   "metadata": {},
   "outputs": [],
   "source": [
    "#Add year to all colums \n",
    "df_rename_2020 = df_2020.rename(columns={\n",
    "    'Total population': 'Total population (2020)',\n",
    "    'Number in poverty': 'Number in poverty (2020)',\n",
    "    'Percent in poverty': 'Percent in poverty (2020)'\n",
    "})\n",
    "\n",
    "df_rename_2020.head()"
   ]
  },
  {
   "cell_type": "code",
   "execution_count": null,
   "metadata": {},
   "outputs": [],
   "source": [
    "# Sort the DataFrame by 'Percent in poverty' in ascending order\n",
    "\n",
    "df_sorted_2020 = df_rename_2020.sort_values('Percent in poverty (2020)')\n",
    "df_sorted_2020\n",
    "\n",
    "# Create a simple string table\n",
    "table = \"| State | Total population | Number in poverty | Percent in poverty |\\n\"\n",
    "table += \"|-------|-------------------------|--------------------------|---------------------|\\n\"\n",
    "df_sorted_2020.head()"
   ]
  },
  {
   "cell_type": "code",
   "execution_count": null,
   "metadata": {},
   "outputs": [],
   "source": [
    "display(df_sorted_2020.plot())"
   ]
  },
  {
   "cell_type": "code",
   "execution_count": null,
   "metadata": {},
   "outputs": [],
   "source": [
    "# Read the CSV file\n",
    "df_2019 = pd.read_csv(r'Resources/Alexandra Data/Poverty_data_2019.csv')\n",
    "\n",
    "df_2019.head()"
   ]
  },
  {
   "cell_type": "code",
   "execution_count": null,
   "metadata": {},
   "outputs": [],
   "source": [
    "# List columns\n",
    "df_2019.columns"
   ]
  },
  {
   "cell_type": "code",
   "execution_count": null,
   "metadata": {},
   "outputs": [],
   "source": [
    "#Check index type\n",
    "print(df_2019['Total population'].dtype)\n",
    "print(df_2019['Number in poverty'].dtype)\n",
    "print(df_2019['Percent in poverty'].dtype)"
   ]
  },
  {
   "cell_type": "code",
   "execution_count": null,
   "metadata": {},
   "outputs": [],
   "source": [
    "print(df_2019.head().to_string())"
   ]
  },
  {
   "cell_type": "code",
   "execution_count": null,
   "metadata": {},
   "outputs": [],
   "source": [
    "# Clean the data & data type conversion \n",
    "df_2019['Total population'] = df_2019['Total population'].replace(',', '', regex=True).astype(float).astype(int)\n",
    "df_2019['Number in poverty'] = df_2019['Number in poverty'].replace(',', '', regex=True).astype(float).astype(int)\n",
    "df_2019['Percent in poverty'] = df_2019['Percent in poverty'].astype(float)\n",
    "\n",
    "# Set the index\n",
    "df_2019.set_index('State', inplace=True)\n",
    "\n",
    "# Display the first few rows of the cleaned dataset\n",
    "print(df_2019.head().to_string())"
   ]
  },
  {
   "cell_type": "code",
   "execution_count": null,
   "metadata": {},
   "outputs": [],
   "source": [
    "#Add year to all colums \n",
    "df_rename_2019 = df_2019.rename(columns={\n",
    "    'Total population': 'Total population (2019)',\n",
    "    'Number in poverty': 'Number in poverty (2019)',\n",
    "    'Percent in poverty': 'Percent in poverty (2019)'\n",
    "})\n",
    "\n",
    "\n",
    "df_rename_2019.head()"
   ]
  },
  {
   "cell_type": "code",
   "execution_count": null,
   "metadata": {},
   "outputs": [],
   "source": [
    "# Sort the DataFrame by 'Percent in poverty' in ascending order\n",
    "\n",
    "df_sorted_2019 = df_rename_2019.sort_values('Percent in poverty (2019)')\n",
    "df_sorted_2019\n",
    "\n",
    "# Create a simple string table\n",
    "table = \"| State | Total population | Number in poverty | Percent in poverty |\\n\"\n",
    "table += \"|-------|-------------------------|--------------------------|---------------------|\\n\"\n",
    "df_sorted_2019.head()"
   ]
  },
  {
   "cell_type": "code",
   "execution_count": null,
   "metadata": {},
   "outputs": [],
   "source": [
    "display(df_sorted_2019.plot())"
   ]
  },
  {
   "cell_type": "code",
   "execution_count": null,
   "metadata": {},
   "outputs": [],
   "source": [
    "# Read the CSV file\n",
    "df_2018 = pd.read_csv(r'Resources/Alexandra Data/Poverty_data_2018.csv')\n",
    "\n",
    "df_2018.head()"
   ]
  },
  {
   "cell_type": "code",
   "execution_count": null,
   "metadata": {},
   "outputs": [],
   "source": [
    "# List columns\n",
    "df_2018.columns"
   ]
  },
  {
   "cell_type": "code",
   "execution_count": null,
   "metadata": {},
   "outputs": [],
   "source": [
    "#Check index type\n",
    "print(df_2018['Total population'].dtype)\n",
    "print(df_2018['Number in poverty'].dtype)\n",
    "print(df_2018['Percent in poverty'].dtype)"
   ]
  },
  {
   "cell_type": "code",
   "execution_count": null,
   "metadata": {},
   "outputs": [],
   "source": [
    "# Clean the data & data type conversion \n",
    "df_2018['Total population'] = df_2018['Total population'].replace(',', '', regex=True).astype(float).astype(int)\n",
    "df_2018['Number in poverty'] = df_2018['Number in poverty'].replace(',', '', regex=True).astype(float).astype(int)\n",
    "df_2018['Percent in poverty'] = df_2018['Percent in poverty'].astype(float)\n",
    "\n",
    "# Set the index\n",
    "df_2018.set_index('State', inplace=True)\n",
    "\n",
    "# Display the first few rows of the cleaned dataset\n",
    "print(df_2018.head().to_string())\n"
   ]
  },
  {
   "cell_type": "code",
   "execution_count": null,
   "metadata": {},
   "outputs": [],
   "source": [
    "#Add year to all colums \n",
    "df_rename_2018 = df_2018.rename(columns={\n",
    "    'Total population': 'Total population (2018)',\n",
    "    'Number in poverty': 'Number in poverty (2018)',\n",
    "    'Percent in poverty': 'Percent in poverty (2018)'\n",
    "})\n",
    "\n",
    "\n",
    "df_rename_2018.head()"
   ]
  },
  {
   "cell_type": "code",
   "execution_count": null,
   "metadata": {},
   "outputs": [],
   "source": [
    "# Sort the DataFrame by 'Percent in poverty' in ascending order\n",
    "\n",
    "df_sorted_2018 = df_rename_2018.sort_values('Percent in poverty (2018)')\n",
    "df_sorted_2018\n",
    "\n",
    "# Create a simple string table\n",
    "table = \"| State | Total population | Number in poverty | Percent in poverty |\\n\"\n",
    "table += \"|-------|-------------------------|--------------------------|---------------------|\\n\"\n",
    "df_sorted_2018.head()"
   ]
  },
  {
   "cell_type": "code",
   "execution_count": null,
   "metadata": {},
   "outputs": [],
   "source": [
    "display(df_sorted_2018.plot())"
   ]
  },
  {
   "cell_type": "code",
   "execution_count": null,
   "metadata": {},
   "outputs": [],
   "source": []
  }
 ],
 "metadata": {
  "kernelspec": {
   "display_name": "RyanDev2",
   "language": "python",
   "name": "python3"
  },
  "language_info": {
   "codemirror_mode": {
    "name": "ipython",
    "version": 3
   },
   "file_extension": ".py",
   "mimetype": "text/x-python",
   "name": "python",
   "nbconvert_exporter": "python",
   "pygments_lexer": "ipython3",
   "version": "3.9.19"
  }
 },
 "nbformat": 4,
 "nbformat_minor": 2
}
